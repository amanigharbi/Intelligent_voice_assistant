{
 "cells": [
  {
   "cell_type": "code",
   "execution_count": 1,
   "id": "4a788146-7535-412a-86ed-2fd2a4ec64ef",
   "metadata": {},
   "outputs": [
    {
     "name": "stdout",
     "output_type": "stream",
     "text": [
      "WARNING:tensorflow:From C:\\Users\\khate\\anaconda\\lib\\site-packages\\tensorflow\\python\\compat\\v2_compat.py:111: disable_resource_variables (from tensorflow.python.ops.variable_scope) is deprecated and will be removed in a future version.\n",
      "Instructions for updating:\n",
      "non-resource variables are not supported in the long term\n",
      "curses is not supported on this machine (please install/reinstall curses for an optimal experience)\n"
     ]
    }
   ],
   "source": [
    "import numpy as np\n",
    "import tflearn\n",
    "import tensorflow as tf\n",
    "import random\n",
    "import json\n",
    "import pickle\n",
    "from utils import clean_pattern, define_network, recurrent_neural_network , convolutional_network , bidirectional_rnn"
   ]
  },
  {
   "cell_type": "code",
   "execution_count": 2,
   "id": "f2c06a3b-c04f-44ab-a68c-3359cd4131be",
   "metadata": {},
   "outputs": [],
   "source": [
    "data_file = open('intents.json', encoding='utf-8').read()\n",
    "data = json.loads(data_file)\n"
   ]
  },
  {
   "cell_type": "code",
   "execution_count": 3,
   "id": "50b6cf7a-4788-42e0-a658-80e016a6d50c",
   "metadata": {},
   "outputs": [
    {
     "name": "stdout",
     "output_type": "stream",
     "text": [
      "577\n",
      "177\n",
      "251\n",
      "['(', ')', ',', '3a2ili', '3a9ar', '3aslema', '3i9ed', '3la', '3omomi', '5asa', '5tar', '7afel', '7osol', '7ouma', '9arar', '`', 'a', 'act', 'adv', 'advert', 'an', 'and', 'apply', 'ar', 'as', 'ask', 'attest', 'au', \"aujourd'hui\", 'aut', 'aux', 'aw', 'aw9at', 'awel', 'awra9', 'balad', 'baladiy', 'bch', 'be', 'beaucoup', 'bedhabt', 'bel', 'bin', 'bin2', 'bine2', 'bir', 'bon', 'bonjo', 'book', 'born', 'build', 'bur', 'bye', 'cadavr', 'calendry', 'can', 'candid', 'cart', 'ce', 'cert', 'chahedet', 'chang', 'chart', 'chehedet', 'chkoun', 'chniya', 'chorot', 'chorout', 'chourot', 'cit', 'citoy', 'collect', 'com', 'comfort', 'commun', 'conc', 'conclud', 'condit', 'conform', 'conformité', 'confort', 'connect', 'conseil', 'construct', 'construir', 'cont', 'contenu', 'contract', 'cop', 'corps', 'council', 'd', \"d'illumination\", \"d'une\", 'daft', 'dan', 'dat', 'day', 'de', 'deceas', 'decid', 'demand', 'demarc', 'demol', 'deposit', 'des', 'dhaw', 'do', 'docu', 'domain', 'du', 'duty', 'dwel', 'déchets', 'décision', 'défunt', 'démolition', 'dépôt', 'désordre', 'eau', 'el', 'elect', 'electron', 'emplo', 'en', 'enlight', 'equip', 'est', 'est-ce', 'et', 'exempt', 'exit', 'exonér', 'extend', 'extract', 'extrair', 'f', 'fadhalet', 'fam', 'famil', 'famy', 'fard', 'fawdhaw', 'fehom', 'fi', 'first', 'fix', 'foc', 'foi', 'fonct', 'for', 'fournit', 'from', 'fête', 'get', 'go', 'going', 'good', 'goodby', 'hadem', 'hav', 'heal', 'hello', 'heur', 'hey', 'hi', 'hold', 'horair', 'hosol', 'hour', 'how', 'i', 'i9amet', 'ibram', 'ich4al', 'ichgh', 'ichkel', 'id', 'ida3', 'ident', 'il', 'imdh', 'immeubl', 'in', 'individuel', 'inhum', 'inscrib', 'is', 'it', 'jalaset', 'job', 'journé', 'jumelé', 'kayfiyet', 'ki', 'kifch', 'kifech', 'kraheb', 'l', \"l'origin\", 'la', 'le', 'lel', 'len', 'les', 'lezm', 'lic', 'licens', 'lieu', 'lil', 'livret', 'log', 'loué', 'loy', 'lyo', 'ma7lolin', 'madhmoun', 'main', 'majl', 'mak', 'mar', 'marhb', 'mark', 'marqu', 'marry', 'mary', 'mask', 'mawa3id', 'mel', 'melek', 'melik', 'menac', 'merc', 'messy', 'min', 'mo3edet', 'mochkl', 'mon', 'mon3azel', 'mon3azil', 'motab9a', 'motaw2em', 'motaw2m', 'mow', 'mt3', 'municip', 'municipalité', 'municipaux', 'my', 'n5arej', 'n7eb', 'n7ot', 'na3mel', 'na3ml', 'nadhir', 'naiss', 'najem', 'nam', 'nbala4', 'nchouf', 'ndhay3o', 'ne5o', 'nechk', 'neighb', 'nekr', 'network', 'nhezhom', 'njibhom', 'nom', 'nos5a', 'notlob', 'nsala7', 'nécessaires', 'obt', 'obtain', 'obtenir', 'occup', 'of', 'op', 'or', 'org', 'origin', 'ou', 'ouvert', 'ouvr', 'own', 'party', 'pass', 'perm', 'permit', 'peuv', 'plac', 'plu', 'possibilité', 'post', 'pour', 'premièr', 'princip', 'problem', 'problèm', 'prolong', 'property', 'propriétair', 'propriété', 'publ', 'publicitair', 'puis-je', 'purpos', \"qu'est-ce\", \"qu'un\", 'quand', 'que', 'quel', \"quelqu'un\", 'quit', 'quo', 'ra7et', 'raccord', 'rafa3', 'rassem', 'reg', 'relev', 'rent', 'report', 'requ', 'requir', 'resid', 'revoir', 'ro5sa', 'ro5set', 'réparer', 'réseaux', 'résidence', 's', 'salut', 'santé', 'scaveng', 'schedule', 'se7et', 'sert', 'sess', 'sign', 'singl', 'slm', 'sont', 'spec', 'spéciaux', 'stop', 'supply', 'sur', 'séant', 't7elo', 'ta3mli', 'ta3rif', 'tajhizet', 'tamdid', 'tanwir', 'tar5is', 'tard', 'tataba9', 'tatabak', 'tax', 'temp', 'temporair', 'thank', 'that', 'the', 'threat', 'through', 'tim', 'tji', 'to', 'today', 'transport', 'truck', 'tu', 'twin', 'un', 'up', 'vas', 'vos', 'vou', 'w', 'wa9et', 'wa9tch', 'wa9tech', 'wa9ti', 'want', 'wast', 'wat', 'wath2e9', 'watha29', 'watha2e9', 'wathe2e9', 'we', 'wel', 'what', 'when', 'wiled', 'win', 'with', 'y', 'yabd', 'yen3a9ed', 'yhadid', 'yo', 'you', 'zawas', 'zawes', 'à', 'électricité', 'électron', 'équip', 'être', '؟', 'أبلغ', 'أتحصل', 'أتمنى', 'أحد', 'أراك', 'أطلب', 'أن', 'أو', 'أوقات', 'إبرام', 'إذن', 'إشهارية؟', 'إقامة', 'إيداع', 'ابلغ', 'استخراج', 'استطيع', 'اسم', 'اشكال', 'اصلاح', 'اكتراء', 'الإشغال', 'الإعفاء', 'الإلكنروني', 'الإیجار؟', 'البلدي', 'البلدي؟', 'البلدية', 'البناء', 'البناء؟', 'التجهيزات', 'التحصيل', 'الترخيص', 'التسجيل', 'التقديم', 'التنوير', 'الحصول', 'الخير', 'الدفتر', 'الرئيسي', 'العائلي', 'العمل؟', 'العمومي', 'العمومي؟', 'العمومیة', 'الغرض', 'الفضلات', 'الماء', 'المالك؟', 'المجلس', 'المسكن', 'المطلوبة', 'المعدات', 'الممكن', 'المواطنين', 'النسخ', 'الوثائق', 'الوقتي', 'ان', 'اهلا', 'او', 'ايداع', 'بالاحياء', 'بالامضاء', 'بالبلدية؟', 'بالدفن؟', 'بالشبكات', 'بجدول', 'بلدي؟', 'بمطابقة', 'بناء', 'ترسيم', 'تركيز', 'تطابق؟', 'تغيير', 'تفتحون؟', 'تمديد', 'جثة؟', 'جزيلا', 'جلسات', 'حالك', 'حفل', 'خاصة', 'خطر', 'راحة', 'ربط', 'رخصة', 'رسم', 'رفع', 'زواج', 'ساعات', 'سعيدا', 'شاحنات', 'شروط', 'شكرا', 'شهادة', 'صباح', 'صحة', 'صورة', 'ضریبة', 'ضياع؟', 'طلب', 'طلب؟', 'عائلي؟', 'عقار', 'عقد', 'علامات', 'على', 'علي', 'عن', 'فردي', 'فضلات', 'فوضوي', 'في', 'قرار', 'كيف', 'كيفية', 'لأول', 'لاحقا', 'لاستخراج', 'لك', 'للاشهاد', 'للاصل', 'للتعريف', 'للحصول', 'للمتوفى؟', 'للملك', 'ما', 'ماهو', 'ماهي', 'متوأم؟', 'متى', 'مرة', 'مرحبا', 'مرور', 'مساء', 'مستشار', 'مسكن', 'مضمون', 'مكان', 'من', 'منعزل', 'مهام', 'مواعيد', 'نسخة', 'نظير', 'نقدم', 'نقل', 'هدم', 'هل', 'هناك؟', 'هي', 'و', 'والكھرباء', 'وثائق', 'وداعا', 'وظيفة؟', 'ولادة', 'يمكن', 'يمكنني', 'يهدد', 'يوما']\n",
      "['  noskha min rokhset', ' le lieu où est déposé le permis de construire, une habitation individuelle ou jumelée ', ' lieu de dépôt d`un certificat de conformité ', ' شروط رخصة تركيز علامات إشهارية ( ركائز، معلقات، كتابة)', ' نظير الدفتر العائلي', ' وثائق  ترسيم ولادة', 'Au revoir', 'Building Permit Extension Documents', 'Conditions de la décision de permis de construire pour un logement individuel ou jumelé', 'Conditions de naissance garantie', 'Conditions de prolongation du permis de construire', 'Conditions du certificat de bornage d`une propriété dans le calendrier de collecte municipale', 'Conditions du permis de fête familiale', 'Conditions for extending the building permit', 'Conditions of the building permit decision for a single or twin dwelling', 'Conditions of the certificate of demarcation of a property in the municipal collection schedule', 'Demande d`exonération de taxe locative', 'Documents d`extension de permis de construire', 'Documents for a license to focus advertising marks (pillars, hangings, writing)', 'Documents pour une licence de focalisation des marques publicitaires (piliers, tentures, écriture)', 'Family Party Permit Conditions', 'Heures', 'Licence d`occupation temporaire du domaine public', 'Licence de raccordement au réseau public (eau et électricité)', 'Location d`équipements et de fournitures municipaux', 'Merci', 'OpenToday', 'OuvertAujourdhui', 'Public Domain Temporary Occupation License', 'Public network connection license (water and electricity)', 'Renting municipal equipment and supplies', 'Request for exemption from rent tax', 'Réparation de carte de naissance', 'Séances du Conseil', 'Thank', 'Times', 'Un permis pour démolir une propriété', 'a copy of the building permit', 'a license to demolish a property', 'a threat to health', 'aaslema', 'acte de naissance', 'apply for a job', 'autorisation d`enterrement', 'awrak madhmoun wileda', 'bine fawdhawi', 'birth certificate documents', 'bâtiment en désordre', 'carnet de famille', 'change owner name', 'chorot hosol 3la chahedet tatabak', 'chorot karar tarkhis f bine maskan fardi monaazil ', 'chorout madhmoun wileda', 'chorout ro5set ikamet hafel aaili ', 'chourout tamdid f ro5set bine', 'conclusion of a marriage contract', 'conditions d`obtention d`un certificat de conformité', 'conditions de démarcation de naissance', 'conditions de licence pour porter des enseignes publicitaires (piliers, tentures, écriture)', 'conditions du certificat de résidence principale du défunt', 'conditions for content of birth', 'conditions for demarcation of birth', 'conditions for obtaining a certificate of conformity', 'conditions for the certificate of the deceased`s main residence', 'conditions of license to focus advertising signs (pillars, hangings, writing)', 'contrat de mariage', 'copies match to original', 'corpse transport license', 'council sessions', 'dafter aaili ', 'delivery content documents', 'documentation du certificat de résidence principale du défunt', 'documentation of conformity certificate', 'documentation of the deceased`s main residence certificate', \"documents d'acte de naissance\", 'documents de la décision de permis de construire pour un logement individuel ou jumelé', 'documents de licence de fête de famille', 'documents of the building permit decision for a single or twin dwelling', 'exit', 'faire une demande', 'family notebook', 'family party license documents', 'fix birth chart', 'garantie de mariage', 'greeting', 'ibram aaked zawej', 'identifier la signature', 'identify the signature', 'iktira tajhizet baladiya', 'illumination publique', 'isle7 rasem wileda', 'jalaset majles', 'khatar youhaded se7a', 'le but de l`inscription électronique dans la commune', 'les copies conformes ', 'madhmoun  zawej', 'make a request', 'maken idaa chahedet tatabak ', 'maken idaa tar5is f bine masken monaazil', 'marriage guarantee', 'menace pour la santé', 'messy build', 'modifier le nom du propriétaire', 'morour chahihnet', 'motabakat nosakh lil asel ', 'nadhir dafter aaili ', 'permis de construire', 'permis de transport de cadavres', 'permission to burial', 'place of deposit of a certificate of conformity', 'postuler pour un emploi', 'public enlightenment', 'rafaa fadhalet', 'raised droppings', 'relever les déchets ', 'rokhsa fi hadem aakar', 'rokhset ichghal wakti lel melek omomi ', 'salutation', 'taarif bel imdha', 'tanwir omomi ', 'tasks of my advisor', 'the place where the building permit is deposited, a single or twin dwelling', 'the purpose of the electronic registration in the municipality', 'truck traffic', 'tâches de mon conseiller', 'wa9techt7elo', 'wathai9 ro5set ikamet hafel aaili ', 'wathaik chahedet tatabak ', 'wathaik karar tarkhis f bine maskan fardi monaazil', 'wathaik tamdid ro5set bin2', 'إبرام عقد زواج', 'إذن بالدفن', 'إصلاح رسم ولادة', 'إلى اللقاء', 'اكتراء المعدات و التجهيزات البلدية', 'التعريف بالإمضاء', 'التقديم على وظيفة', 'التقديم علي طلب', 'التنوير العمومي', 'الدفتر العائلي', 'الغرض من التسجيل الإلكنروني بالبلدية', 'اوقات العمل', 'بناء فوضوي', 'تحية', 'تغيير اسم المالك', 'جلسات المجلس', 'خطر يهدد صحة', 'رخصة الإشغال الوقتي للملك العمومي', 'رخصة ربط بالشبكات العمومیة(الماء والكھرباء)', 'رخصة في هدم عقار', 'رخصة نقل جثة', 'رفع فضلات ', 'شروط الحصول على شهادة تطابق', 'شروط ترسيم ولادة', 'شروط تمديد رخصة البناء', 'شروط رخصة إقامة حفل عائلي', 'شروط شهادة المسكن الرئيسي للمتوفى', 'شروط شهادة ترسيم عقار بجدول التحصيل البلدي', 'شروط قرار الترخيص في البناء مسكن فردي منعزل أو متوأم', 'شروط مضمون ولادة', 'شكرا لك', 'طلب الإعفاء من ضریبة الإیجار', 'مرور شاحنات', 'مضمون زواج', 'مطابقة النسخ للأصل ', 'مكان ايداع الترخيص في البناء مسكن فردي منعزل أو متوأم', 'مكان ايداع شهادة تطابق', 'مهام مستشار بلدي', 'نسخة من رخصة البناء', 'وثائق تمديد رخصة البناء', 'وثائق رخصة إقامة حفل عائلي', 'وثائق رخصة تركيز علامات إشهارية ( ركائز، معلقات، كتابة)', 'وثائق شهادة المسكن الرئيسي للمتوفى', 'وثائق شهادة ترسيم عقار بجدول التحصيل البلدي', 'وثائق شهادة تطابق', 'وثائق قرار الترخيص في البناء مسكن فردي منعزل أو متوأم', 'وثائق مضمون ولادة ']\n",
      "[(['مرحبا'], 'تحية'), (['كيف', 'حالك'], 'تحية'), (['هل', 'من', 'أحد', 'هناك؟'], 'تحية'), (['مرحبا'], 'تحية'), (['أتمنى', 'لك', 'يوما', 'سعيدا'], 'تحية'), (['مساء', 'الخير'], 'تحية'), (['اهلا'], 'تحية'), (['صباح', 'الخير'], 'تحية'), (['ما', 'هي', 'ساعات', 'العمل؟'], 'اوقات العمل'), (['متى', 'تفتحون؟'], 'اوقات العمل'), (['ماهي', 'أوقات', 'مرور', 'شاحنات', 'رفع', 'الفضلات', 'بالاحياء', '؟'], 'مرور شاحنات'), (['كيف', 'أبلغ', 'عن', 'بناء', 'فوضوي', '؟'], 'بناء فوضوي'), (['كيف', 'أبلغ', 'عن', 'اشكال', 'في', 'التنوير', 'العمومي', '؟'], 'التنوير العمومي'), (['هل', 'يمكن', 'أن', 'أطلب', 'من', 'البلدية', 'رفع', 'فضلات', 'خاصة', '؟'], 'رفع فضلات '), (['ماهي', 'مواعيد', 'جلسات', 'المجلس', 'البلدي', '؟'], 'جلسات المجلس'), (['كيف', 'ابلغ', 'عن', 'خطر', 'يهدد', 'صحة', 'او', 'راحة', 'المواطنين', '؟'], 'خطر يهدد صحة'), (['هل', 'من', 'الممكن', 'ان', 'أتحصل', 'على', 'نسخة', 'من', 'رخصة', 'البناء', '؟'], 'نسخة من رخصة البناء'), (['ماهي', 'ترسيم', 'ولادة', '؟'], 'شروط ترسيم ولادة'), (['هل', 'من', 'الممكن', 'ان', 'أتحصل', 'على', 'نسخة', 'من', 'رخصة', 'البناء', '؟'], ' وثائق  ترسيم ولادة'), (['ماهي', 'شروط', 'الحصول', 'على', 'مضمون', 'ولادة'], 'شروط مضمون ولادة'), (['كيفية', 'استخراج', 'مضمون', 'ولادة'], 'وثائق مضمون ولادة '), (['كيفية', 'اصلاح', 'رسم', 'ولادة'], 'إصلاح رسم ولادة'), (['كيفية', 'إبرام', 'عقد', 'زواج'], 'إبرام عقد زواج'), (['كيفية', 'الحصول', 'على', 'مضمون', 'زواج'], 'مضمون زواج'), (['كيفية', 'استخراج', 'الدفتر', 'العائلي', 'لأول', 'مرة'], 'الدفتر العائلي'), (['كيفية', 'استخراج', 'نظير', 'الدفتر', 'العائلي', 'في', 'صورة', 'ضياع؟'], ' نظير الدفتر العائلي'), (['ماهي', 'الوثائق', 'المطلوبة', 'للتعريف', 'بالامضاء'], 'التعريف بالإمضاء'), (['ماهي', 'الوثائق', 'المطلوبة', 'للاشهاد', 'بمطابقة', 'النسخ', 'للاصل'], 'مطابقة النسخ للأصل '), (['ماهي', 'الوثائق', 'المطلوبة', 'للحصول', 'على', 'رخصة', 'في', 'هدم', 'عقار'], 'رخصة في هدم عقار'), (['هل', 'يمكن', 'اكتراء', 'المعدات', 'و', 'التجهيزات', 'البلدية', '؟'], 'اكتراء المعدات و التجهيزات البلدية'), (['ماهي', 'شروط', 'قرار', 'الترخيص', 'في', 'البناء', 'مسكن', 'فردي', 'منعزل', 'أو', 'متوأم؟'], 'شروط قرار الترخيص في البناء مسكن فردي منعزل أو متوأم'), (['ماهي', 'وثائق', 'قرار', 'الترخيص', 'في', 'البناء', 'مسكن', 'فردي', 'منعزل', 'أو', 'متوأم؟'], 'وثائق قرار الترخيص في البناء مسكن فردي منعزل أو متوأم'), (['ماهو', 'مكان', 'ايداع', 'الترخيص', 'في', 'البناء', 'مسكن', 'فردي', 'منعزل', 'أو', 'متوأم؟'], 'مكان ايداع الترخيص في البناء مسكن فردي منعزل أو متوأم'), (['ماهي', 'شروط', 'تمديد', 'رخصة', 'البناء؟'], 'شروط تمديد رخصة البناء'), (['ماهي', 'وثائق', 'الحصول', 'على', 'تمديد', 'رخصة', 'البناء؟'], 'وثائق تمديد رخصة البناء'), (['ماهي', 'شروط', 'الحصول', 'على', 'شهادة', 'تطابق؟'], 'شروط الحصول على شهادة تطابق'), (['ماهو', 'مكان', 'إيداع', 'شهادة', 'تطابق؟'], 'مكان ايداع شهادة تطابق'), (['ماهي', 'وثائق', 'الحصول', 'على', 'شهادة', 'تطابق؟'], 'وثائق شهادة تطابق'), (['ماهي', 'شروط', 'الحصول', 'على', 'رخصة', 'إقامة', 'حفل', 'عائلي؟'], 'شروط رخصة إقامة حفل عائلي'), (['ماهي', 'وثائق', 'الحصول', 'على', 'رخصة', 'إقامة', 'حفل', 'عائلي؟'], 'وثائق رخصة إقامة حفل عائلي'), (['ماهي', 'الوثائق', 'للحصول', 'على', 'رخصة', 'الإشغال', 'الوقتي', 'للملك', 'العمومي؟'], 'رخصة الإشغال الوقتي للملك العمومي'), (['ماهي', 'شروط', 'الحصول', 'على', 'رخصة', 'تركيز', 'علامات', 'إشهارية؟'], ' شروط رخصة تركيز علامات إشهارية ( ركائز، معلقات، كتابة)'), (['ماهي', 'وثائق', 'الحصول', 'على', 'رخصة', 'تركيز', 'علامات', 'إشهارية؟'], 'وثائق رخصة تركيز علامات إشهارية ( ركائز، معلقات، كتابة)'), (['ماهي', 'شروط', 'شهادة', 'ترسيم', 'عقار', 'بجدول', 'التحصيل', 'البلدي؟'], 'شروط شهادة ترسيم عقار بجدول التحصيل البلدي'), (['ماهي', 'وثائق', 'شهادة', 'ترسيم', 'عقار', 'بجدول', 'التحصيل', 'البلدي؟'], 'وثائق شهادة ترسيم عقار بجدول التحصيل البلدي'), (['ماهي', 'وثائق', 'الحصول', 'على', 'شهادة', 'المسكن', 'الرئيسي', 'للمتوفى؟'], 'وثائق شهادة المسكن الرئيسي للمتوفى'), (['الوثائق', 'المطلوبة', 'لاستخراج', 'إذن', 'بالدفن؟'], 'إذن بالدفن'), (['ماهي', 'شروط', 'الحصول', 'على', 'شهادة', 'المسكن', 'الرئيسي', 'للمتوفى؟'], 'شروط شهادة المسكن الرئيسي للمتوفى'), (['الوثائق', 'المطلوبة', 'لاستخراج', 'رخصة', 'نقل', 'جثة؟'], 'رخصة نقل جثة'), (['كيف', 'يمكن', 'الحصول', 'على', 'رخصة', 'ربط', 'بالشبكات', 'العمومیة', '(', 'الماء', 'والكھرباء', ')'], 'رخصة ربط بالشبكات العمومیة(الماء والكھرباء)'), (['كيف', 'نقدم', 'طلب', 'الإعفاء', 'من', 'ضریبة', 'الإیجار؟'], 'طلب الإعفاء من ضریبة الإیجار'), (['كيف', 'يمكن', 'تغيير', 'اسم', 'المالك؟'], 'تغيير اسم المالك'), (['ما', 'هي', 'مهام', 'مستشار', 'بلدي؟'], 'مهام مستشار بلدي'), (['كيف', 'استطيع', 'التقديم', 'علي', 'طلب؟'], 'التقديم علي طلب'), (['ما', 'الغرض', 'من', 'التسجيل', 'الإلكنروني', 'بالبلدية؟'], 'الغرض من التسجيل الإلكنروني بالبلدية'), (['كيف', 'يمكنني', 'التقديم', 'علي', 'وظيفة؟'], 'التقديم على وظيفة'), (['وداعا'], 'إلى اللقاء'), (['أراك', 'لاحقا'], 'إلى اللقاء'), (['وداعا'], 'إلى اللقاء'), (['شكرا', 'لك'], 'شكرا لك'), (['شكرا', 'جزيلا', 'لك'], 'شكرا لك'), (['hey'], 'greeting'), (['hello'], 'greeting'), (['what', '`', 's', 'up'], 'greeting'), (['how', 'is', 'it', 'going'], 'greeting'), (['hi'], 'greeting'), (['good', 'day'], 'greeting'), (['what', 'hour', 'ar', 'you', 'op'], 'Times'), (['what', 'ar', 'yo', 'hour'], 'Times'), (['when', 'ar', 'you', 'op'], 'Times'), (['ar', 'you', 'op', 'today'], 'OpenToday'), (['when', 'do', 'you', 'op', 'today'], 'OpenToday'), (['what', 'ar', 'yo', 'hour', 'today'], 'OpenToday'), (['what', 'ar', 'the', 'tim', 'for', 'scaveng', 'truck', 'to', 'pass', 'through', 'neighb'], 'truck traffic'), (['how', 'do', 'i', 'report', 'a', 'messy', 'build'], 'messy build'), (['how', 'do', 'i', 'report', 'problem', 'with', 'publ', 'enlight'], 'public enlightenment'), (['can', 'i', 'ask', 'the', 'municip', 'to', 'collect', 'spec', 'wast'], 'raised droppings'), (['what', 'ar', 'the', 'dat', 'for', 'the', 'municip', 'council', 'sess'], 'council sessions'), (['how', 'do', 'i', 'report', 'a', 'threat', 'to', 'the', 'heal', 'or', 'comfort', 'of', 'cit'], 'a threat to health'), (['can', 'i', 'get', 'a', 'cop', 'of', 'the', 'build', 'permit'], 'a copy of the building permit'), (['what', 'is', 'a', 'bir', 'cert'], 'conditions for demarcation of birth'), (['can', 'i', 'get', 'a', 'cop', 'of', 'the', 'build', 'permit'], 'birth certificate documents'), (['what', 'ar', 'the', 'condit', 'for', 'obtain', 'a', 'bir', 'cert'], 'conditions for content of birth'), (['how', 'to', 'extract', 'the', 'cont', 'of', 'the', 'bir'], 'delivery content documents'), (['how', 'to', 'fix', 'a', 'bir', 'chart'], 'fix birth chart'), (['how', 'to', 'conclud', 'a', 'marry', 'contract'], 'conclusion of a marriage contract'), (['how', 'to', 'obtain', 'marry', 'cont'], 'marriage guarantee'), (['how', 'to', 'extract', 'the', 'famy', 'book', 'for', 'the', 'first', 'tim'], 'family notebook'), (['what', 'docu', 'ar', 'requir', 'to', 'ident', 'the', 'sign'], 'identify the signature'), (['what', 'ar', 'the', 'docu', 'requir', 'to', 'cert', 'that', 'cop', 'ar', 'id', 'to', 'the', 'origin'], 'copies match to original'), (['what', 'ar', 'the', 'docu', 'requir', 'to', 'obtain', 'a', 'permit', 'to', 'demol', 'a', 'property'], 'a license to demolish a property'), (['can', 'municip', 'equip', 'and', 'supply', 'be', 'rent'], 'Renting municipal equipment and supplies'), (['what', 'ar', 'the', 'condit', 'for', 'the', 'decid', 'to', 'permit', 'the', 'construct', 'of', 'a', 'singl', 'or', 'twin', 'resid'], 'Conditions of the building permit decision for a single or twin dwelling'), (['what', 'ar', 'the', 'docu', 'for', 'a', 'build', 'permit', 'decid', 'for', 'a', 'singl', 'or', 'twin', 'resid'], 'documents of the building permit decision for a single or twin dwelling'), (['what', 'is', 'the', 'plac', 'for', 'deposit', 'the', 'build', 'permit', 'for', 'a', 'singl', 'or', 'twin', 'dwel'], 'the place where the building permit is deposited, a single or twin dwelling'), (['what', 'ar', 'the', 'condit', 'for', 'extend', 'a', 'build', 'permit'], 'Conditions for extending the building permit'), (['what', 'ar', 'the', 'docu', 'for', 'obtain', 'a', 'build', 'permit', 'extend'], 'Building Permit Extension Documents'), (['what', 'ar', 'the', 'condit', 'for', 'obtain', 'a', 'cert', 'of', 'conform'], 'conditions for obtaining a certificate of conformity'), (['what', 'is', 'the', 'plac', 'of', 'deposit'], 'place of deposit of a certificate of conformity'), (['what', 'ar', 'the', 'docu', 'for', 'obtain', 'a', 'cert', 'of', 'conform'], 'documentation of conformity certificate'), (['what', 'ar', 'the', 'condit', 'for', 'obtain', 'a', 'permit', 'to', 'hold', 'a', 'famy', 'party'], 'Family Party Permit Conditions'), (['what', 'ar', 'the', 'docu', 'for', 'obtain', 'a', 'permit', 'to', 'hold', 'a', 'famy', 'party'], 'family party license documents'), (['what', 'ar', 'the', 'docu', 'for', 'obtain', 'a', 'temp', 'occup', 'licens', 'of', 'the', 'publ', 'domain'], 'Public Domain Temporary Occupation License'), (['what', 'ar', 'the', 'condit', 'for', 'obtain', 'a', 'licens', 'to', 'foc', 'advert', 'mark'], 'conditions of license to focus advertising signs (pillars, hangings, writing)'), (['what', 'ar', 'the', 'docu', 'for', 'obtain', 'a', 'licens', 'to', 'foc', 'advert', 'mark'], 'Documents for a license to focus advertising marks (pillars, hangings, writing)'), (['what', 'ar', 'the', 'condit', 'for', 'a', 'cert', 'of', 'demarc', 'of', 'a', 'property', 'in', 'the', 'municip', 'collect', 'schedule'], 'Conditions of the certificate of demarcation of a property in the municipal collection schedule'), (['docu', 'requir', 'to', 'obtain', 'a', 'bur', 'permit'], 'permission to burial'), (['what', 'ar', 'the', 'docu', 'for', 'obtain', 'the', 'cert', 'of', 'the', 'main', 'resid', 'of', 'the', 'deceas'], 'documentation of the deceased`s main residence certificate'), (['what', 'ar', 'the', 'condit', 'for', 'obtain', 'a', 'cert', 'of', 'the', 'main', 'resid', 'of', 'the', 'deceas'], 'conditions for the certificate of the deceased`s main residence'), (['docu', 'requir', 'to', 'obtain', 'a', 'corps', 'transport', 'licens'], 'corpse transport license'), (['how', 'to', 'obtain', 'a', 'licens', 'to', 'connect', 'to', 'the', 'publ', 'network', '(', 'wat', 'and', 'elect', ')'], 'Public network connection license (water and electricity)'), (['how', 'do', 'we', 'apply', 'for', 'exempt', 'from', 'rent', 'tax'], 'Request for exemption from rent tax'), (['how', 'can', 'i', 'chang', 'the', 'own', '`', 's', 'nam'], 'change owner name'), (['what', 'ar', 'the', 'duty', 'of', 'my', 'adv'], 'tasks of my advisor'), (['how', 'do', 'i', 'apply', 'for', 'an', 'apply'], 'make a request'), (['what', 'is', 'the', 'purpos', 'of', 'electron', 'reg', 'in', 'the', 'municip'], 'the purpose of the electronic registration in the municipality'), (['how', 'can', 'i', 'apply', 'for', 'a', 'job'], 'apply for a job'), (['thank', 'you'], 'Thank'), (['bye'], 'exit'), (['stop'], 'exit'), (['quit'], 'exit'), (['i', 'want', 'to', 'quit'], 'exit'), (['goodby'], 'exit'), (['i', 'want', 'to', 'exit'], 'exit'), (['i', 'hav', 'to', 'go'], 'exit'), (['bonjo'], 'salutation'), (['com', 'vas', 'tu'], 'salutation'), (['il', 'y', 'a', \"quelqu'un\"], 'salutation'), (['salut'], 'salutation'), (['bon', 'journé'], 'salutation'), (['et', 'vou', 'ouvert', \"aujourd'hui\"], 'OuvertAujourdhui'), (['quand', 'ouvr', 'tu', \"aujourd'hui\"], 'OuvertAujourdhui'), (['quel', 'sont', 'vos', 'heur', \"aujourd'hui\"], 'OuvertAujourdhui'), (['au', 'revoir'], 'Au revoir'), (['a', 'plu', 'tard'], 'Au revoir'), (['bye'], 'Au revoir'), (['merc'], 'Merci'), (['merc', 'beaucoup'], 'Merci'), (['quel', 'heur', 'et', 'vou', 'ouvert'], 'Heures'), (['quel', 'sont', 'vos', 'heur'], 'Heures'), (['quand', 'et', 'vou', 'ouvert'], 'Heures'), (['com', 'sign', 'un', 'immeubl', 'en', 'désordre'], 'bâtiment en désordre'), (['com', 'puis-je', 'sign', 'des', 'problèm', \"d'illumination\", 'publ'], 'illumination publique'), (['puis-je', 'demand', 'à', 'la', 'municipalité', 'de', 'relev', 'les', 'déchets', 'spéciaux'], 'relever les déchets '), (['quel', 'sont', 'les', 'horair', 'des', 'séant', 'du', 'conseil', 'municip'], 'Séances du Conseil'), (['com', 'sign', 'un', 'menac', 'pour', 'la', 'santé', 'ou', 'le', 'confort', 'des', 'citoy'], 'menace pour la santé'), (['puis-je', 'obtenir', 'un', 'cop', 'du', 'perm', 'de', 'construir'], 'permis de construire'), ([\"qu'est-ce\", \"qu'un\", 'act', 'de', 'naiss'], 'conditions de démarcation de naissance'), (['puis-je', 'obtenir', 'un', 'cop', 'du', 'perm', 'de', 'construir'], \"documents d'acte de naissance\"), (['quel', 'sont', 'les', 'condit', 'pour', 'obtenir', 'un', 'act', 'de', 'naiss'], 'Conditions de naissance garantie'), (['com', 'extrair', 'le', 'contenu', 'de', 'la', 'naiss'], 'acte de naissance'), (['com', 'réparer', 'la', 'cart', 'de', 'naiss'], 'Réparation de carte de naissance'), (['com', 'conc', 'un', 'cont', 'de', 'mary'], 'contrat de mariage'), (['com', 'obtenir', 'du', 'contenu', 'de', 'mary'], 'garantie de mariage'), (['com', 'extrair', 'le', 'livret', 'de', 'famil', 'pour', 'la', 'premièr', 'foi'], 'carnet de famille'), (['quel', 'docu', 'sont', 'nécessaires', 'pour', 'ident', 'la', 'sign'], 'identifier la signature'), (['quel', 'sont', 'les', 'docu', 'requ', 'pour', 'cert', 'que', 'les', 'cop', 'sont', 'ident', 'à', \"l'origin\"], 'les copies conformes '), (['quel', 'sont', 'les', 'docu', 'requ', 'pour', 'cert', 'que', 'les', 'cop', 'sont', 'conform'], 'les copies conformes '), (['quel', 'sont', 'les', 'docu', 'requ', 'pour', 'obtenir', 'un', 'perm', 'de', 'démolition', \"d'une\", 'propriété'], 'Un permis pour démolir une propriété'), (['est-ce', 'que', 'l', '`', 'équip', 'et', 'les', 'fournit', 'municipaux', 'peuv', 'être', 'loué'], 'Location d`équipements et de fournitures municipaux'), (['quel', 'sont', 'les', 'condit', 'de', 'la', 'décision', 'd', '`', 'aut', 'la', 'construct', 'd', '`', 'un', 'résidence', 'individuel', 'ou', 'jumelé'], 'Conditions de la décision de permis de construire pour un logement individuel ou jumelé'), (['quel', 'sont', 'les', 'docu', 'pour', 'un', 'décision', 'de', 'perm', 'de', 'construir', 'pour', 'un', 'résidence', 'individuel', 'ou', 'jumelé'], 'documents de la décision de permis de construire pour un logement individuel ou jumelé'), (['quel', 'est', 'le', 'lieu', 'de', 'dépôt', 'du', 'perm', 'de', 'construir', 'pour', 'un', 'log', 'individuel', 'ou', 'jumelé'], ' le lieu où est déposé le permis de construire, une habitation individuelle ou jumelée '), (['quel', 'sont', 'les', 'condit', 'pour', 'prolong', 'un', 'perm', 'de', 'construir'], 'Conditions de prolongation du permis de construire'), (['quel', 'sont', 'les', 'docu', 'pour', 'obtenir', 'un', 'prolong', 'de', 'perm', 'de', 'construir'], 'Documents d`extension de permis de construire'), (['quel', 'sont', 'les', 'condit', 'd', '`', 'obt', 'd', '`', 'un', 'cert', 'de', 'conformité'], 'conditions d`obtention d`un certificat de conformité'), (['quel', 'est', 'le', 'lieu', 'de', 'dépôt'], ' lieu de dépôt d`un certificat de conformité '), (['quel', 'sont', 'les', 'condit', 'd', '`', 'obt', 'd', '`', 'un', 'perm', 'pour', 'org', 'un', 'fête', 'de', 'famil'], 'Conditions du permis de fête familiale'), (['quel', 'sont', 'les', 'docu', 'pour', 'obtenir', 'un', 'perm', 'pour', 'org', 'un', 'fête', 'de', 'famil'], 'documents de licence de fête de famille'), (['quel', 'sont', 'les', 'docu', 'pour', 'obtenir', 'un', 'aut', 'd', '`', 'occup', 'temporair', 'du', 'domain', 'publ'], 'Licence d`occupation temporaire du domaine public'), (['quel', 'sont', 'les', 'condit', 'd', '`', 'obt', 'd', '`', 'un', 'lic', 'de', 'cont', 'de', 'marqu', 'publicitair'], 'conditions de licence pour porter des enseignes publicitaires (piliers, tentures, écriture)'), (['quel', 'sont', 'les', 'docu', 'pour', 'obtenir', 'un', 'lic', 'de', 'foc', 'de', 'marqu', 'publicitair'], 'Documents pour une licence de focalisation des marques publicitaires (piliers, tentures, écriture)'), (['quel', 'sont', 'les', 'condit', 'd', '`', 'un', 'attest', 'de', 'born', 'd', '`', 'un', 'propriété', 'dan', 'le', 'calendry', 'de', 'collect', 'municip'], 'Conditions du certificat de bornage d`une propriété dans le calendrier de collecte municipale'), (['quel', 'sont', 'les', 'docu', 'pour', 'obtenir', 'le', 'cert', 'de', 'la', 'résidence', 'princip', 'du', 'défunt'], 'documentation du certificat de résidence principale du défunt'), (['docu', 'requ', 'pour', 'obtenir', 'un', 'perm', 'd', '`', 'inhum'], 'autorisation d`enterrement'), (['quel', 'sont', 'les', 'condit', 'd', '`', 'obt', 'd', '`', 'un', 'attest', 'de', 'résidence', 'princip', 'du', 'défunt'], 'conditions du certificat de résidence principale du défunt'), (['docu', 'requ', 'pour', 'obtenir', 'un', 'lic', 'de', 'transport', 'de', 'cadavr'], 'permis de transport de cadavres'), (['com', 'obtenir', 'un', 'aut', 'de', 'raccord', 'aux', 'réseaux', 'publ', '(', 'eau', 'et', 'électricité', ')'], 'Licence de raccordement au réseau public (eau et électricité)'), (['com', 'demand', 'l', '`', 'exonér', 'de', 'la', 'tax', 'sur', 'les', 'loy'], 'Demande d`exonération de taxe locative'), (['com', 'puis-je', 'chang', 'le', 'nom', 'du', 'propriétair'], 'modifier le nom du propriétaire'), (['quel', 'sont', 'les', 'fonct', 'de', 'mon', 'conseil'], 'tâches de mon conseiller'), (['com', 'puis-je', 'post', 'pour', 'un', 'candid'], 'faire une demande'), (['a', 'quo', 'sert', 'l', '`', 'inscrib', 'électron', 'dan', 'la', 'commun'], 'le but de l`inscription électronique dans la commune'), (['com', 'puis-je', 'post', 'pour', 'un', 'emplo'], 'postuler pour un emploi'), (['ma7lolin', 'lyo'], 'wa9techt7elo'), (['wa9tech', 't7elo', 'lyo'], 'wa9techt7elo'), (['chniya', 'aw9at', 'lyo'], 'wa9techt7elo'), (['3aslema'], 'aaslema'), (['marhb', ',', 'fam', 'chkoun', 'len'], 'aaslema'), (['slm'], 'aaslema'), (['chniya', 'aw9at', 'el', 'tji', 'fehom', 'kraheb', 'baladiy'], 'morour chahihnet'), (['wa9tch', 'tji', 'kraheb', 'baladiy'], 'morour chahihnet'), (['kifech', 'nbala4', '3la', 'bine2', 'fawdhaw'], 'bine fawdhawi'), (['ki', 'nchouf', 'bine2', 'fawdhaw', 'kifch', 'najem', 'nechk'], 'bine fawdhawi'), (['kifech', 'najem', 'nbala4', '3la', 'ichkel', 'fi', 'dhaw', 'mt3', '7ouma'], 'tanwir omomi '), (['ki', 'yabd', 'fam', 'mochkl', 'f', 'tanwir', '3omomi', 'chniya', 'na3mel', 'bedhabt'], 'tanwir omomi '), (['najem', 'notlob', 'mel', 'baladiy', 'rafa3', 'fadhalet', '5asa'], 'rafaa fadhalet'), (['n7eb', 'baladiy', 'ta3mli', 'rafa3', 'fadhalet', '5asa', ',', 'kifech', 'na3ml'], 'rafaa fadhalet'), (['chniya', 'mawa3id', 'jalaset', 'majl', 'balad'], 'jalaset majles'), (['wa9et', 'yen3a9ed', 'majl', 'balad'], 'jalaset majles'), (['kifech', 'nbala4', '3la', '5tar', 'yhadid', 'se7et', 'wel', 'ra7et', 'mow'], 'khatar youhaded se7a'), (['najem', 'ne5o', 'cop', 'min', 'ro5set', 'bin2'], '  noskha min rokhset'), (['najem', 'ne5o', 'cop', 'mel', 'perm', 'de', 'construct'], '  noskha min rokhset'), (['chniya', 'chorout', 'bch', 'najem', 'ne5o', 'madhmoun', 'wiled'], 'chorout madhmoun wileda'), (['chniya', 'awra9', 'el', 'nhezhom', 'ki', 'bch', 'ne5o', 'madhmoun', 'wiled'], 'awrak madhmoun wileda'), (['kifech', 'najem', 'nsala7', 'rassem', 'wiled'], 'isle7 rasem wileda'), (['fam', 'possibilité', 'bch', 'nsala7', 'rassem', 'wiled'], 'isle7 rasem wileda'), (['kifech', 'najem', 'na3ml', 'ibram', '3i9ed', 'zawes'], 'ibram aaked zawej'), (['kayfiyet', 'ibram', '3i9ed', 'zawas'], 'ibram aaked zawej'), (['kifech', 'najem', 'ne5o', 'madhmoun', 'zawes'], 'madhmoun  zawej'), (['chniya', 'na3ml', 'bch', 'ne5o', 'madhmoun', 'zawes'], 'madhmoun  zawej'), (['kifech', 'n5arej', 'daft', '3a2ili', 'l', 'awel', 'mar'], 'dafter aaili '), (['chniya', 'awra9', 'lezm', 'bch', 'n5arej', 'daft', '3a2ili', 'l', 'awel', 'mar'], 'dafter aaili '), (['kifech', 'n5arej', 'nadhir', 'daft', '3a2ili', 'ki', 'ndhay3o'], 'nadhir dafter aaili '), (['chniya', 'awra9', 'lezm', 'bch', 'n5arej', 'nadhir', 'daft', 'ki', 'ndhay3o'], 'nadhir dafter aaili '), (['chniya', 'awra9', 'ta3rif', 'bel', 'imdh'], 'taarif bel imdha'), (['kifech', 'na3ml', 'ta3rif', 'bel', 'imdh'], 'taarif bel imdha'), (['chniya', 'awra9', 'lezm', 'ki', 'na3ml', 'cop', 'conform'], 'motabakat nosakh lil asel '), (['kifech', 'na3ml', 'cop', 'conform'], 'motabakat nosakh lil asel '), (['kifech', 'na3ml', 'nos5a', 'motab9a', 'lil', 'as'], 'motabakat nosakh lil asel '), (['chniya', 'awra9', 'lezm', 'bch', 'ne5o', 'ro5sa', 'f', 'hadem', '3a9ar'], 'rokhsa fi hadem aakar'), (['kifech', 'najem', 'ne5o', 'ro5sa', 'f', 'hadem', '3a9ar'], 'rokhsa fi hadem aakar'), (['chorot', '9arar', 'ro5sa', 'f', 'hadem', '3a9ar'], 'rokhsa fi hadem aakar'), (['najem', 'nekr', 'mo3edet', 'w', 'tajhizet', 'baladiy'], 'iktira tajhizet baladiya'), (['est', 'ce', 'que', 'najem', 'nekr', 'mo3edet', 'w', 'tajhizet', 'baladiy'], 'iktira tajhizet baladiya'), (['chniya', 'chorot', 'tar5is', 'f', 'bine2', 'mask', 'fard', 'mon3azel', 'aw', 'motaw2m'], 'chorot karar tarkhis f bine maskan fardi monaazil '), (['chorout', 'tar5is', 'f', 'bin', 'mask', 'fard', 'mon3azil', 'wel', 'motaw2em'], 'chorot karar tarkhis f bine maskan fardi monaazil '), (['chniya', 'awra9', 'el', 'njibhom', 'ki', 'bch', 'na3ml', 'tar5is', 'f', 'bine2', 'mask', 'fard', 'mon3azil', 'wel', 'motaw2em'], 'wathaik karar tarkhis f bine maskan fardi monaazil'), (['chniya', 'awra9', 'tar5is', 'f', 'bin', 'mask', 'mon3azil', 'wel', 'motaw2em'], 'wathaik karar tarkhis f bine maskan fardi monaazil'), (['awra9', 'tar5is', 'f', 'bine2', 'mask', 'mon3azel', 'wel', 'motaw2em'], 'wathaik karar tarkhis f bine maskan fardi monaazil'), (['win', 'mak', 'ida3', 'tar5is', 'f', 'bin2', 'mask', 'mon3azil', 'wel', 'motaw2em'], 'maken idaa tar5is f bine masken monaazil'), (['win', 'n7ot', 'awra9', 'tar5is', 'f', 'bin2', 'mask', 'mon3azil', 'wel', 'motaw2m'], 'maken idaa tar5is f bine masken monaazil'), (['chniya', 'chourot', 'tamdid', 'f', 'ro5set', 'bin2'], 'chourout tamdid f ro5set bine'), (['chorot', 'tamdid', 'f', 'ro5set', 'bin2'], 'chourout tamdid f ro5set bine'), (['chniya', 'wathe2e9', 'tamdid', 'f', 'ro5set', 'bine2'], 'wathaik tamdid ro5set bin2'), (['chniya', 'awra9', 'el', 'njibhom', 'ki', 'bch', 'na3ml', 'tamdid', 'f', 'ro5set', 'bine2'], 'wathaik tamdid ro5set bin2'), (['awra9', 'tamdid', 'f', 'ro5set', 'bine2'], 'wathaik tamdid ro5set bin2'), (['chniya', 'chorot', '7osol', '3la', 'chehedet', 'tataba9'], 'chorot hosol 3la chahedet tatabak'), (['chorout', 'hosol', '3la', 'chahedet', 'tatabak'], 'chorot hosol 3la chahedet tatabak'), (['chorot', '7osol', '3la', 'chehedet', 'tataba9'], 'maken idaa chahedet tatabak '), (['chorout', 'hosol', '3la', 'chahedet', 'tatabak'], 'maken idaa chahedet tatabak '), (['chniya', 'wath2e9', 'chehedet', 'tataba9'], 'wathaik chahedet tatabak '), (['watha2e9', 'hosol', '3la', 'chahedet', 'tatabak'], 'wathaik chahedet tatabak '), (['chniya', 'chorot', '7osol', '3la', 'ro5sa', 'f', 'i9amet', '7afel', '3a2ili'], 'chorout ro5set ikamet hafel aaili '), (['chorot', '7osol', '3la', 'ro5sa', 'f', 'i9amet', '7afel', '3a2ili'], 'chorout ro5set ikamet hafel aaili '), (['chniya', 'watha29', 'bch', 'najem', 'ne5o', 'ro5sa', 'f', 'i9amet', '7afel', '3a2ili'], 'wathai9 ro5set ikamet hafel aaili '), (['watha2e9', '7osol', '3la', 'ro5sa', 'f', 'i9amet', '7afel', '3a2ili'], 'wathai9 ro5set ikamet hafel aaili '), (['chniya', 'watha29', 'lezm', 'lel', '7osol', '3la', 'ro5set', 'ich4al', 'wa9ti', 'lel', 'melik', '3omomi'], 'rokhset ichghal wakti lel melek omomi '), (['watha2e9', '7osol', '3la', 'ro5set', 'ichgh', 'wa9ti', 'lel', 'melek', '3omomi'], 'rokhset ichghal wakti lel melek omomi '), (['chniya', 'watha29', 'lezm', 'lel', '7osol', '3la', 'ro5set', 'ich4al', 'wa9ti', 'lel', 'melik', '3omomi'], 'rokhset ichghal wakti lel melek omomi '), (['watha2e9', '7osol', '3la', 'ro5set', 'ichgh', 'wa9ti', 'lel', 'melek', '3omomi'], 'rokhset ichghal wakti lel melek omomi ')]\n"
     ]
    }
   ],
   "source": [
    "# Some cleaning of data in intents.json\n",
    "stemmed_words = []\n",
    "tags = []\n",
    "ignore_words = ['!', '?', '.']\n",
    "corpus = []\n",
    "\n",
    "for intent in data['intents']:\n",
    "    for pattern in intent['patterns']:\n",
    "        stemmed_pattern = clean_pattern(pattern, ignore_words)\n",
    "        stemmed_words.extend(stemmed_pattern)\n",
    "        corpus.append((stemmed_pattern, intent['tag']))\n",
    "    if intent['tag'] not in tags:\n",
    "        tags.append(intent['tag'])\n",
    "\n",
    "# remove duplicates and sort\n",
    "stemmed_words = sorted(list(set(stemmed_words)))\n",
    "tags = sorted(list(set(tags)))\n",
    "print(len(stemmed_words))\n",
    "print(len(tags))\n",
    "print(len(corpus))\n",
    "print(stemmed_words)\n",
    "print(tags)\n",
    "print(corpus)"
   ]
  },
  {
   "cell_type": "code",
   "execution_count": 4,
   "id": "d1725807-078b-4bb0-ad0c-2f37ceded468",
   "metadata": {},
   "outputs": [
    {
     "name": "stdout",
     "output_type": "stream",
     "text": [
      "[[0 0 0 ... 0 0 0]\n",
      " [0 0 0 ... 0 0 0]\n",
      " [0 0 0 ... 0 0 0]\n",
      " ...\n",
      " [0 0 0 ... 0 0 0]\n",
      " [0 0 0 ... 0 0 0]\n",
      " [0 0 0 ... 0 0 0]]\n",
      "[[0 0 0 ... 0 0 0]\n",
      " [0 0 0 ... 0 0 0]\n",
      " [0 0 0 ... 0 0 0]\n",
      " ...\n",
      " [0 0 0 ... 0 0 0]\n",
      " [0 0 0 ... 0 0 0]\n",
      " [0 0 0 ... 0 0 0]]\n"
     ]
    }
   ],
   "source": [
    "# Creating numeric features and labels out of cleaned data\n",
    "X = []\n",
    "y = []\n",
    "for item in corpus:\n",
    "    bag = [] #array of 1 and 0. 1 if stemmed word is present in stemmed pattern\n",
    "    stemmed_pattern = item[0]\n",
    "    for w in stemmed_words:\n",
    "        if w in stemmed_pattern:\n",
    "            bag.append(1)\n",
    "        else:\n",
    "            bag.append(0)\n",
    "\n",
    "    tags_row = [] #array of 1 and 0. 1 for current tag and for everything else 0.\n",
    "    current_tag = item[1]\n",
    "    for tag in tags:\n",
    "        if tag == current_tag:\n",
    "            tags_row.append(1)\n",
    "        else:\n",
    "            tags_row.append(0)\n",
    "\n",
    "    #for each item in corpus, X will be array indicating stemmed words and y array indicating tags\n",
    "    X.append(bag)\n",
    "    y.append(tags_row) \n",
    "\n",
    "X = np.array(X)\n",
    "y = np.array(y)\n",
    "print(X)\n",
    "print(y)\n",
    "\n",
    "# saving variables in pickle to be used by main.py\n",
    "with open('saved_variables.pickle', 'wb') as file:\n",
    "    pickle.dump((stemmed_words, tags, ignore_words, X, y), file)"
   ]
  },
  {
   "cell_type": "code",
   "execution_count": null,
   "id": "d82ac816-ac04-46de-bf0a-67fbc7ee15bf",
   "metadata": {},
   "outputs": [
    {
     "name": "stdout",
     "output_type": "stream",
     "text": [
      "Training Step: 5820  | total loss: \u001b[1m\u001b[32m0.26436\u001b[0m\u001b[0m | time: 0.174s\n",
      "| Adam | epoch: 182 | loss: 0.26436 - acc: 0.9593 -- iter: 224/251\n"
     ]
    }
   ],
   "source": [
    "# model = recurrent_neural_network(X, y)\n",
    "model = define_network(X, y)\n",
    "# model = convolutional_network(X, y)\n",
    "# model = bidirectional_rnn(X, y)\n",
    "model.fit(X, y, n_epoch=200, batch_size=8, show_metric=True) \n",
    "model.save(\"chatbot_model.tflearn\")"
   ]
  },
  {
   "cell_type": "code",
   "execution_count": null,
   "id": "3180117d-05ac-4804-8267-1401223de88c",
   "metadata": {},
   "outputs": [],
   "source": []
  },
  {
   "cell_type": "code",
   "execution_count": null,
   "id": "92449d13-d497-4401-a315-76939c8b7221",
   "metadata": {},
   "outputs": [],
   "source": []
  }
 ],
 "metadata": {
  "kernelspec": {
   "display_name": "Python 3",
   "language": "python",
   "name": "python3"
  },
  "language_info": {
   "codemirror_mode": {
    "name": "ipython",
    "version": 3
   },
   "file_extension": ".py",
   "mimetype": "text/x-python",
   "name": "python",
   "nbconvert_exporter": "python",
   "pygments_lexer": "ipython3",
   "version": "3.8.8"
  }
 },
 "nbformat": 4,
 "nbformat_minor": 5
}
