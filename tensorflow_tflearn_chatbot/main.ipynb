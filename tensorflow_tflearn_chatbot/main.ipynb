{
 "cells": [
  {
   "cell_type": "code",
   "execution_count": null,
   "id": "b6c4f5bc-61ce-4218-8e07-5c425d70af87",
   "metadata": {},
   "outputs": [
    {
     "name": "stdout",
     "output_type": "stream",
     "text": [
      "INFO:tensorflow:Restoring parameters from C:\\Users\\khate\\OneDrive\\Bureau\\PFE\\PFE_Partie_AI\\tensorflow_tflearn_chatbot\\chatbot_model.tflearn\n",
      "Welcome to the intents based chatbot. You can start chatting! (enter 'q' to quit)\n"
     ]
    },
    {
     "name": "stdin",
     "output_type": "stream",
     "text": [
      "You:  هل من الممكن ان أتحصل على نسخة من رخصة البناء\n"
     ]
    },
    {
     "name": "stdout",
     "output_type": "stream",
     "text": [
      "Chatbot: يتعين على المواطن تقديم ملف في الغرض يتكون الوثائق التالية 🏛️: مطلب في رخصة بناء  مثال مسحي أصلي , حجة ملكية أصلية , تصريح على الضريبة ,  أمثلة هندسية لمشروع البناء , شهادة إبراء , نسخة من بطاقة التعريف الوطنية , وعدد 02 ظروف متنبرة تحمل عنوان السكنى\n"
     ]
    },
    {
     "name": "stdin",
     "output_type": "stream",
     "text": [
      "You:  bonjour\n"
     ]
    },
    {
     "name": "stdout",
     "output_type": "stream",
     "text": [
      "Chatbot: Bonjour merci pour la visite 😍 \n"
     ]
    },
    {
     "name": "stdin",
     "output_type": "stream",
     "text": [
      "You:  nx,s\n"
     ]
    },
    {
     "name": "stdout",
     "output_type": "stream",
     "text": [
      "Chatbot: C'est bon de te revoir 😍\n"
     ]
    },
    {
     "name": "stdin",
     "output_type": "stream",
     "text": [
      "You:  bye\n"
     ]
    },
    {
     "name": "stdout",
     "output_type": "stream",
     "text": [
      "Chatbot: Bye sir!🥰\n"
     ]
    },
    {
     "name": "stdin",
     "output_type": "stream",
     "text": [
      "You:  thanks\n"
     ]
    },
    {
     "name": "stdout",
     "output_type": "stream",
     "text": [
      "Chatbot: Bye sir!🥰\n"
     ]
    },
    {
     "name": "stdin",
     "output_type": "stream",
     "text": [
      "You:  thank you\n"
     ]
    },
    {
     "name": "stdout",
     "output_type": "stream",
     "text": [
      "Chatbot: You are welcome!🤗\n"
     ]
    },
    {
     "name": "stdin",
     "output_type": "stream",
     "text": [
      "You:  bonjour\n"
     ]
    },
    {
     "name": "stdout",
     "output_type": "stream",
     "text": [
      "Chatbot: Salut, comment puis_je vous aider ?😍 \n"
     ]
    },
    {
     "name": "stdin",
     "output_type": "stream",
     "text": [
      "You:  dsjdjsd\n"
     ]
    },
    {
     "name": "stdout",
     "output_type": "stream",
     "text": [
      "Chatbot: C'est bon de te revoir 😍\n"
     ]
    },
    {
     "name": "stdin",
     "output_type": "stream",
     "text": [
      "You:  djsjdsjdsqù^dq\n"
     ]
    },
    {
     "name": "stdout",
     "output_type": "stream",
     "text": [
      "Chatbot: Bonjour merci pour la visite 😍 \n"
     ]
    },
    {
     "name": "stdin",
     "output_type": "stream",
     "text": [
      "You:  merci\n"
     ]
    },
    {
     "name": "stdout",
     "output_type": "stream",
     "text": [
      "Chatbot: Mon plaisir 🤩\n"
     ]
    },
    {
     "name": "stdin",
     "output_type": "stream",
     "text": [
      "You:  jsjdkqsd\n"
     ]
    },
    {
     "name": "stdout",
     "output_type": "stream",
     "text": [
      "Chatbot: Mon plaisir 🤩\n"
     ]
    },
    {
     "name": "stdin",
     "output_type": "stream",
     "text": [
      "You:  ldlqsdlldsjd,qs\n"
     ]
    },
    {
     "name": "stdout",
     "output_type": "stream",
     "text": [
      "Chatbot: Mon plaisir 🤩\n"
     ]
    },
    {
     "name": "stdin",
     "output_type": "stream",
     "text": [
      "You:  bonjoir\n"
     ]
    },
    {
     "name": "stdout",
     "output_type": "stream",
     "text": [
      "Chatbot: A toute heure! 🤩\n"
     ]
    },
    {
     "name": "stdin",
     "output_type": "stream",
     "text": [
      "You:  bonjour\n"
     ]
    },
    {
     "name": "stdout",
     "output_type": "stream",
     "text": [
      "Chatbot: Bonjour merci pour la visite 😍 \n"
     ]
    },
    {
     "name": "stdin",
     "output_type": "stream",
     "text": [
      "You:  ma7lolin lyoum\n"
     ]
    },
    {
     "name": "stdout",
     "output_type": "stream",
     "text": [
      "Chatbot: aw9atna dima min 9h l 17h 🕑\n"
     ]
    },
    {
     "name": "stdin",
     "output_type": "stream",
     "text": [
      "You:  jdsqdqkslqsf\n"
     ]
    },
    {
     "name": "stdout",
     "output_type": "stream",
     "text": [
      "Chatbot: aw9atna dima min 9h l 17h 🕑\n"
     ]
    },
    {
     "name": "stdin",
     "output_type": "stream",
     "text": [
      "You:  kdksqdshqd\n"
     ]
    },
    {
     "name": "stdout",
     "output_type": "stream",
     "text": [
      "Chatbot:  🕛 ma7loulin kol youm min 9h 7ata 17h 🕛\n"
     ]
    },
    {
     "name": "stdin",
     "output_type": "stream",
     "text": [
      "You:  bye\n"
     ]
    },
    {
     "name": "stdout",
     "output_type": "stream",
     "text": [
      "Chatbot: See you later🤗, Thank you for your visit🥰\n"
     ]
    },
    {
     "name": "stdin",
     "output_type": "stream",
     "text": [
      "You:  jjjdjsjdjd\n"
     ]
    },
    {
     "name": "stdout",
     "output_type": "stream",
     "text": [
      "Chatbot: See you later🤗, Thank you for your visit🥰\n"
     ]
    },
    {
     "name": "stdin",
     "output_type": "stream",
     "text": [
      "You:  ok\n"
     ]
    },
    {
     "name": "stdout",
     "output_type": "stream",
     "text": [
      "Chatbot: Bye sir!🥰\n"
     ]
    },
    {
     "name": "stdin",
     "output_type": "stream",
     "text": [
      "You:  ok\n"
     ]
    },
    {
     "name": "stdout",
     "output_type": "stream",
     "text": [
      "Chatbot: See you later🤗, Thank you for your visit🥰\n"
     ]
    },
    {
     "name": "stdin",
     "output_type": "stream",
     "text": [
      "You:  ok\n"
     ]
    },
    {
     "name": "stdout",
     "output_type": "stream",
     "text": [
      "Chatbot: Have a nice day, come back🥰\n"
     ]
    },
    {
     "name": "stdin",
     "output_type": "stream",
     "text": [
      "You:  ok\n"
     ]
    },
    {
     "name": "stdout",
     "output_type": "stream",
     "text": [
      "Chatbot: Have a nice day, come back🥰\n"
     ]
    }
   ],
   "source": [
    "import numpy as np\n",
    "import pickle\n",
    "import json\n",
    "import random\n",
    "import pyttsx3\n",
    "from colorama import init, Fore\n",
    "from utils import clean_pattern, define_network, bag_of_words\n",
    "\n",
    "with open('saved_variables.pickle', 'rb') as file:\n",
    "    stemmed_words, tags, ignore_words, X, y = pickle.load(file) \n",
    "\n",
    "data_file = open('intents.json', encoding='utf-8').read()\n",
    "data = json.loads(data_file)\n",
    "\n",
    "init(autoreset=True)\n",
    "engine = pyttsx3.init()\n",
    "model = define_network(X, y)\n",
    "model.load(\"chatbot_model.tflearn\")\n",
    "\n",
    "# pour gérer le contexte précédent et donner avantage aux résultats de ce contexte\n",
    "def context_func(context, user_input):\n",
    "    model_input = [bag_of_words(user_input, stemmed_words, ignore_words)]\n",
    "    results = model.predict(model_input)[0]\n",
    "    for intent in data['intents']:\n",
    "        if 'context_filter' in intent:\n",
    "            if intent['context_filter'] == context:\n",
    "               # looping through tags and their indices\n",
    "                  for tg_index, tg in enumerate(tags):\n",
    "                      if tg == intent['tag']:\n",
    "                        results[tg_index] += 0.5 \n",
    "    return results\n",
    "\n",
    "\n",
    "def chat(show_tags_probability= False):\n",
    "    probability_threshold = 0.4 \n",
    "    context = \"\"\n",
    "    print(\"Welcome to the intents based chatbot. You can start chatting! (enter 'q' to quit)\")\n",
    "    while True:\n",
    "        user_input = input(\"You: \")\n",
    "        user_input = user_input.lower()\n",
    "        if user_input == 'q':\n",
    "            break\n",
    "# si le contexte de la réponse précédente est présent, les résultats de ce contexte sont avantagés        if context:\n",
    "            results = context_func(context, user_input)\n",
    "        else:\n",
    "            model_input = [bag_of_words(user_input, stemmed_words, ignore_words)] #as model is trained on 2d array\n",
    "            results = model.predict(model_input)[0] #gives array of probabilities for all tags\n",
    "        context = \"\" #reset the context\n",
    "        result_index = np.argmax(results) #to get index of max probability\n",
    "        #to filter out predictions below threshold\n",
    "        if results[result_index] > probability_threshold: \n",
    "            tag = tags[result_index] #tag associated with user_input according to model predicition\n",
    "        for intent in data['intents']:\n",
    "            if intent['tag'] == tag:\n",
    "                response = random.choice(intent['responses'])\n",
    "                print(\"Chatbot: {}\".format(response))\n",
    "                # vérifier si le contexte est défini pour l'intention actuelle\n",
    "                if 'context_set' in intent:\n",
    "                    context = intent['context_set']\n",
    "                break\n",
    "    else:\n",
    "        response = \"I didn't understand! Maybe try rephrasing...\"\n",
    "        print(\"Chatbot: {}\".format(response))\n",
    "    \n",
    "\n",
    "chat(True)"
   ]
  },
  {
   "cell_type": "code",
   "execution_count": null,
   "id": "8e7d0f04-d3b3-43cb-903d-9f02ffa2f861",
   "metadata": {},
   "outputs": [],
   "source": []
  },
  {
   "cell_type": "code",
   "execution_count": null,
   "id": "720ff8a8-84f1-4193-8ebe-d98c1632cae5",
   "metadata": {},
   "outputs": [],
   "source": []
  },
  {
   "cell_type": "code",
   "execution_count": null,
   "id": "09de3d64-ea7f-4f01-97ad-362fe733702d",
   "metadata": {},
   "outputs": [],
   "source": []
  }
 ],
 "metadata": {
  "kernelspec": {
   "display_name": "Python 3",
   "language": "python",
   "name": "python3"
  },
  "language_info": {
   "codemirror_mode": {
    "name": "ipython",
    "version": 3
   },
   "file_extension": ".py",
   "mimetype": "text/x-python",
   "name": "python",
   "nbconvert_exporter": "python",
   "pygments_lexer": "ipython3",
   "version": "3.8.8"
  }
 },
 "nbformat": 4,
 "nbformat_minor": 5
}
